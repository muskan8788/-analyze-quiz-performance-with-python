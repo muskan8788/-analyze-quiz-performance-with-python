{
 "cells": [
  {
   "cell_type": "code",
   "execution_count": 1,
   "id": "ef7dd0c8-be59-44ff-8d12-e273758de6fe",
   "metadata": {},
   "outputs": [
    {
     "ename": "KeyError",
     "evalue": "'questions'",
     "output_type": "error",
     "traceback": [
      "\u001b[0;31m---------------------------------------------------------------------------\u001b[0m",
      "\u001b[0;31mKeyError\u001b[0m                                  Traceback (most recent call last)",
      "Cell \u001b[0;32mIn[1], line 19\u001b[0m\n\u001b[1;32m     16\u001b[0m     historical_data \u001b[38;5;241m=\u001b[39m json\u001b[38;5;241m.\u001b[39mload(file)\n\u001b[1;32m     18\u001b[0m \u001b[38;5;66;03m# Convert to DataFrame\u001b[39;00m\n\u001b[0;32m---> 19\u001b[0m historical_questions \u001b[38;5;241m=\u001b[39m pd\u001b[38;5;241m.\u001b[39mDataFrame(\u001b[43mhistorical_data\u001b[49m\u001b[43m[\u001b[49m\u001b[38;5;124;43m'\u001b[39;49m\u001b[38;5;124;43mquestions\u001b[39;49m\u001b[38;5;124;43m'\u001b[39;49m\u001b[43m]\u001b[49m)\n\u001b[1;32m     21\u001b[0m \u001b[38;5;66;03m# Analyze historical performance trends (Step 2)\u001b[39;00m\n\u001b[1;32m     22\u001b[0m historical_performance \u001b[38;5;241m=\u001b[39m historical_questions\u001b[38;5;241m.\u001b[39mgroupby(\u001b[38;5;124m'\u001b[39m\u001b[38;5;124mtopic\u001b[39m\u001b[38;5;124m'\u001b[39m)[\u001b[38;5;124m'\u001b[39m\u001b[38;5;124mcorrect\u001b[39m\u001b[38;5;124m'\u001b[39m]\u001b[38;5;241m.\u001b[39mmean()\n",
      "\u001b[0;31mKeyError\u001b[0m: 'questions'"
     ]
    }
   ],
   "source": [
    "import json\n",
    "import pandas as pd\n",
    "\n",
    "# Load current quiz data (Step 1)\n",
    "with open('current_quiz.json', 'r') as file:\n",
    "    current_data = json.load(file)\n",
    "\n",
    "# Convert to DataFrame\n",
    "questions = pd.DataFrame(current_data['questions'])\n",
    "\n",
    "# Analyze current quiz data (Step 2)\n",
    "accuracy_by_topic = questions.groupby('topic')['correct'].mean()\n",
    "\n",
    "# Load historical quiz data (Step 1)\n",
    "with open('historical_quiz.json', 'r') as file:\n",
    "    historical_data = json.load(file)\n",
    "\n",
    "# Convert to DataFrame\n",
    "historical_questions = pd.DataFrame(historical_data['questions'])\n",
    "\n",
    "# Analyze historical performance trends (Step 2)\n",
    "historical_performance = historical_questions.groupby('topic')['correct'].mean()\n",
    "\n",
    "# Define student persona based on current and historical performance\n",
    "student_persona = {}\n",
    "\n",
    "# Persona based on current quiz performance\n",
    "for topic, accuracy in accuracy_by_topic.items():\n",
    "    if accuracy >= 0.8:\n",
    "        student_persona[topic] = f\"{topic} Expert\"\n",
    "    elif accuracy >= 0.5:\n",
    "        student_persona[topic] = f\"{topic} Enthusiast\"\n",
    "    else:\n",
    "        student_persona[topic] = f\"{topic} Learner\"\n",
    "\n",
    "# Persona based on historical trends (if available)\n",
    "for topic, accuracy in historical_performance.items():\n",
    "    if accuracy >= 0.8:\n",
    "        student_persona[topic] += \" (Consistent Performer)\"\n",
    "    elif accuracy < 0.5:\n",
    "        student_persona[topic] += \" (Needs Attention)\"\n",
    "\n",
    "# Print the student persona\n",
    "print(\"Student Persona:\")\n",
    "for topic, persona in student_persona.items():\n",
    "    print(f\"{topic}: {persona}\")\n"
   ]
  },
  {
   "cell_type": "code",
   "execution_count": 2,
   "id": "143db1af-cc37-4ceb-9cde-432b360ca8fc",
   "metadata": {},
   "outputs": [
    {
     "name": "stdout",
     "output_type": "stream",
     "text": [
      "{'user_id': 123, 'quizzes': [{'quiz_id': 111, 'score': 12, 'total_score': 20, 'responses': {'1': {'selected_option': 2, 'correct': True}, '2': {'selected_option': 3, 'correct': False}}}, {'quiz_id': 112, 'score': 18, 'total_score': 20, 'responses': {'1': {'selected_option': 1, 'correct': True}, '2': {'selected_option': 4, 'correct': True}}}]}\n"
     ]
    }
   ],
   "source": [
    "print(historical_data)\n"
   ]
  },
  {
   "cell_type": "code",
   "execution_count": 3,
   "id": "cb89f478-4733-42f1-823a-4664e1617059",
   "metadata": {},
   "outputs": [
    {
     "name": "stdout",
     "output_type": "stream",
     "text": [
      "   quiz_id question_id  selected_option  correct  score  total_score\n",
      "0      111           1                2     True     12           20\n",
      "1      111           2                3    False     12           20\n",
      "2      112           1                1     True     18           20\n",
      "3      112           2                4     True     18           20\n",
      "question_id\n",
      "1    1.0\n",
      "2    0.5\n",
      "Name: correct, dtype: float64\n"
     ]
    }
   ],
   "source": [
    "import json\n",
    "import pandas as pd\n",
    "\n",
    "# Load historical quiz data\n",
    "with open('historical_quiz.json', 'r') as file:\n",
    "    historical_data = json.load(file)\n",
    "\n",
    "# Extract quizzes from historical data\n",
    "quizzes = historical_data['quizzes']\n",
    "\n",
    "# Prepare a list to store quiz performance data\n",
    "quiz_performance_data = []\n",
    "\n",
    "# Process each quiz\n",
    "for quiz in quizzes:\n",
    "    quiz_id = quiz['quiz_id']\n",
    "    score = quiz['score']\n",
    "    total_score = quiz['total_score']\n",
    "    \n",
    "    # Process each response in the quiz\n",
    "    for question_id, response in quiz['responses'].items():\n",
    "        quiz_performance_data.append({\n",
    "            'quiz_id': quiz_id,\n",
    "            'question_id': question_id,\n",
    "            'selected_option': response['selected_option'],\n",
    "            'correct': response['correct'],\n",
    "            'score': score,\n",
    "            'total_score': total_score\n",
    "        })\n",
    "\n",
    "# Convert the list of quiz performance data into a DataFrame\n",
    "historical_questions = pd.DataFrame(quiz_performance_data)\n",
    "\n",
    "# Check the structure of the DataFrame\n",
    "print(historical_questions)\n",
    "\n",
    "# Analyze performance (Step 2)\n",
    "historical_performance = historical_questions.groupby('question_id')['correct'].mean()\n",
    "\n",
    "# Print analysis results\n",
    "print(historical_performance)\n"
   ]
  },
  {
   "cell_type": "code",
   "execution_count": null,
   "id": "e423d0fe-c6ce-4d91-b221-5aadd0db8a26",
   "metadata": {},
   "outputs": [],
   "source": []
  }
 ],
 "metadata": {
  "kernelspec": {
   "display_name": "Python 3 (ipykernel)",
   "language": "python",
   "name": "python3"
  },
  "language_info": {
   "codemirror_mode": {
    "name": "ipython",
    "version": 3
   },
   "file_extension": ".py",
   "mimetype": "text/x-python",
   "name": "python",
   "nbconvert_exporter": "python",
   "pygments_lexer": "ipython3",
   "version": "3.12.1"
  }
 },
 "nbformat": 4,
 "nbformat_minor": 5
}
