{
 "cells": [
  {
   "cell_type": "code",
   "execution_count": 1,
   "id": "1b9f951d-3fd9-4294-83bc-449e2c2b7c9e",
   "metadata": {},
   "outputs": [
    {
     "name": "stdout",
     "output_type": "stream",
     "text": [
      "Jupyter Notebook is ready!\n"
     ]
    }
   ],
   "source": [
    "# Check if Jupyter is set up correctly\n",
    "print(\"Jupyter Notebook is ready!\")\n"
   ]
  },
  {
   "cell_type": "code",
   "execution_count": 2,
   "id": "b31733e3-0797-46d2-9395-38a5fddafe58",
   "metadata": {},
   "outputs": [
    {
     "name": "stdout",
     "output_type": "stream",
     "text": [
      "Requirement already satisfied: requests in /Library/Frameworks/Python.framework/Versions/3.12/lib/python3.12/site-packages (2.32.3)\n",
      "Requirement already satisfied: flask in /Library/Frameworks/Python.framework/Versions/3.12/lib/python3.12/site-packages (3.1.0)\n",
      "Requirement already satisfied: charset-normalizer<4,>=2 in /Library/Frameworks/Python.framework/Versions/3.12/lib/python3.12/site-packages (from requests) (3.4.1)\n",
      "Requirement already satisfied: idna<4,>=2.5 in /Library/Frameworks/Python.framework/Versions/3.12/lib/python3.12/site-packages (from requests) (3.10)\n",
      "Requirement already satisfied: urllib3<3,>=1.21.1 in /Library/Frameworks/Python.framework/Versions/3.12/lib/python3.12/site-packages (from requests) (2.3.0)\n",
      "Requirement already satisfied: certifi>=2017.4.17 in /Library/Frameworks/Python.framework/Versions/3.12/lib/python3.12/site-packages (from requests) (2024.12.14)\n",
      "Requirement already satisfied: Werkzeug>=3.1 in /Library/Frameworks/Python.framework/Versions/3.12/lib/python3.12/site-packages (from flask) (3.1.3)\n",
      "Requirement already satisfied: Jinja2>=3.1.2 in /Library/Frameworks/Python.framework/Versions/3.12/lib/python3.12/site-packages (from flask) (3.1.5)\n",
      "Requirement already satisfied: itsdangerous>=2.2 in /Library/Frameworks/Python.framework/Versions/3.12/lib/python3.12/site-packages (from flask) (2.2.0)\n",
      "Requirement already satisfied: click>=8.1.3 in /Library/Frameworks/Python.framework/Versions/3.12/lib/python3.12/site-packages (from flask) (8.1.8)\n",
      "Requirement already satisfied: blinker>=1.9 in /Library/Frameworks/Python.framework/Versions/3.12/lib/python3.12/site-packages (from flask) (1.9.0)\n",
      "Requirement already satisfied: MarkupSafe>=2.0 in /Library/Frameworks/Python.framework/Versions/3.12/lib/python3.12/site-packages (from Jinja2>=3.1.2->flask) (2.1.5)\n"
     ]
    }
   ],
   "source": [
    "!pip install requests flask\n"
   ]
  },
  {
   "cell_type": "code",
   "execution_count": 1,
   "id": "3fd2a3a7-23ef-4ca7-ab67-d16b84629041",
   "metadata": {},
   "outputs": [
    {
     "name": "stdout",
     "output_type": "stream",
     "text": [
      "{'user_id': 123, 'quiz_id': 456, 'questions': [{'id': 1, 'topic': 'Physics', 'difficulty': 'Medium', 'correct': False}, {'id': 2, 'topic': 'Chemistry', 'difficulty': 'Hard', 'correct': True}], 'score': 15, 'total_score': 20}\n"
     ]
    }
   ],
   "source": [
    "import json\n",
    "\n",
    "# Load mock data\n",
    "with open('current_quiz.json', 'r') as file:\n",
    "    current_data = json.load(file)\n",
    "\n",
    "print(current_data)\n"
   ]
  },
  {
   "cell_type": "code",
   "execution_count": 2,
   "id": "6a811a99-ff62-4e6c-9cc4-1afe0bc1387e",
   "metadata": {},
   "outputs": [
    {
     "name": "stdout",
     "output_type": "stream",
     "text": [
      "Source path: /Users/avenkhemani/current_quiz.json\n",
      "Destination path: /Users/avenkhemani/Untitled Folder 1/current_quiz.json\n",
      "Error: The source file '/Users/avenkhemani/current_quiz.json' does not exist.\n"
     ]
    }
   ],
   "source": [
    "import shutil\n",
    "import os\n",
    "\n",
    "# Path to the source and destination files\n",
    "source = os.path.expanduser('~/current_quiz.json')\n",
    "destination = os.path.expanduser('~/Untitled Folder 1/current_quiz.json')\n",
    "\n",
    "# Print out paths for debugging\n",
    "print(f\"Source path: {source}\")\n",
    "print(f\"Destination path: {destination}\")\n",
    "\n",
    "# Check if the source file exists before moving\n",
    "if os.path.exists(source):\n",
    "    # Move the file\n",
    "    shutil.move(source, destination)\n",
    "    print(\"File moved successfully.\")\n",
    "else:\n",
    "    print(f\"Error: The source file '{source}' does not exist.\")\n"
   ]
  },
  {
   "cell_type": "code",
   "execution_count": 3,
   "id": "2299ddf4-8967-4fc9-ae3e-b69de5f59709",
   "metadata": {},
   "outputs": [
    {
     "name": "stdout",
     "output_type": "stream",
     "text": [
      "Step1_Setup.ipynb\n",
      "Step1_Setup.py\n",
      "Step2_Data_Analysis.ipynb\n",
      "Step2_Data_Analysis.py\n",
      "Step3_Recommendations.ipynb\n",
      "Step3_Recommendations.py\n",
      "Step4_Visualization.ipynb\n",
      "Step4_Visualization.py\n",
      "\u001b[34mUntitled Folder\u001b[m\u001b[m/\n",
      "current_quiz.json\n",
      "historical_quiz.json\n",
      "\u001b[34minternshipproject\u001b[m\u001b[m/\n",
      "main.ipynb\n",
      "main.py\n",
      "step5_student_persona_and_insights.ipynb\n",
      "step5_student_persona_and_insights.py\n"
     ]
    }
   ],
   "source": [
    "ls ~/Untitled\\ Folder\\ 1/\n"
   ]
  },
  {
   "cell_type": "code",
   "execution_count": 4,
   "id": "7cf51b20-bca4-40d7-9889-09ddb193a6e4",
   "metadata": {},
   "outputs": [
    {
     "name": "stdout",
     "output_type": "stream",
     "text": [
      "File moved successfully.\n"
     ]
    }
   ],
   "source": [
    "import shutil\n",
    "import os\n",
    "\n",
    "# Paths for source and destination\n",
    "source = 'current_quiz.json'  # Relative path\n",
    "destination_folder = 'Untitled Folder 1'\n",
    "\n",
    "# Ensure destination folder exists\n",
    "if not os.path.exists(destination_folder):\n",
    "    os.makedirs(destination_folder)\n",
    "\n",
    "destination = os.path.join(destination_folder, 'current_quiz.json')\n",
    "\n",
    "# Move the file if it exists\n",
    "if os.path.exists(source):\n",
    "    shutil.move(source, destination)\n",
    "    print(\"File moved successfully.\")\n",
    "else:\n",
    "    print(f\"Error: The source file '{source}' does not exist.\")\n",
    "\n"
   ]
  },
  {
   "cell_type": "code",
   "execution_count": 5,
   "id": "754c3d0c-2037-4ce1-8ae1-f11f5d93c757",
   "metadata": {},
   "outputs": [
    {
     "name": "stdout",
     "output_type": "stream",
     "text": [
      "Error: The source file '/Users/avenkhemani/Untitled Folder 1/current_quiz.json' does not exist.\n",
      "{'user_id': 123, 'quiz_id': 456, 'questions': [{'id': 1, 'topic': 'Physics', 'difficulty': 'Medium', 'correct': False}, {'id': 2, 'topic': 'Chemistry', 'difficulty': 'Hard', 'correct': True}], 'score': 15, 'total_score': 20}\n"
     ]
    }
   ],
   "source": [
    "import os\n",
    "import shutil\n",
    "import json\n",
    "\n",
    "# Define the source and destination paths\n",
    "source = os.path.join(os.getcwd(), 'current_quiz.json')  # Absolute path based on current working directory\n",
    "destination_folder = os.path.join(os.getcwd(), 'Untitled Folder 1')\n",
    "\n",
    "# Ensure the destination folder exists\n",
    "if not os.path.exists(destination_folder):\n",
    "    os.makedirs(destination_folder)\n",
    "\n",
    "destination = os.path.join(destination_folder, 'current_quiz.json')\n",
    "\n",
    "# Move the file\n",
    "if os.path.exists(source):\n",
    "    shutil.move(source, destination)\n",
    "    print(\"File moved successfully.\")\n",
    "else:\n",
    "    print(f\"Error: The source file '{source}' does not exist.\")\n",
    "\n",
    "# Load data\n",
    "with open(destination, 'r') as file:\n",
    "    current_data = json.load(file)\n",
    "\n",
    "print(current_data)  # Print loaded data for verification\n"
   ]
  },
  {
   "cell_type": "code",
   "execution_count": 6,
   "id": "681abb1a-6a39-4c4c-ad04-63a6c5988289",
   "metadata": {},
   "outputs": [
    {
     "name": "stdout",
     "output_type": "stream",
     "text": [
      "Error: The source file '/Users/avenkhemani/Untitled Folder 1/current_quiz.json' does not exist.\n"
     ]
    }
   ],
   "source": [
    "source = os.path.join(os.getcwd(), 'current_quiz.json')  # Check the current working directory\n",
    "destination_folder = os.path.join(os.getcwd(), 'Untitled Folder 1')\n",
    "\n",
    "# Ensure destination folder exists\n",
    "if not os.path.exists(destination_folder):\n",
    "    os.makedirs(destination_folder)\n",
    "\n",
    "destination = os.path.join(destination_folder, 'current_quiz.json')\n",
    "\n",
    "# Move the file only if it exists in the source location\n",
    "if os.path.exists(source):\n",
    "    shutil.move(source, destination)\n",
    "    print(\"File moved successfully.\")\n",
    "else:\n",
    "    print(f\"Error: The source file '{source}' does not exist.\")\n"
   ]
  },
  {
   "cell_type": "code",
   "execution_count": 7,
   "id": "7bf2221b-b22e-4ac2-9d2c-a7bd216688fc",
   "metadata": {},
   "outputs": [],
   "source": [
    "# Step1_Setup.py\n",
    "import json\n",
    "\n",
    "def load_data():\n",
    "    # Load the data from the JSON files\n",
    "    with open('current_quiz.json', 'r') as file:\n",
    "        current_data = json.load(file)\n",
    "\n",
    "    with open('historical_quiz.json', 'r') as file:\n",
    "        historical_data = json.load(file)\n",
    "\n",
    "    return current_data, historical_data\n"
   ]
  },
  {
   "cell_type": "code",
   "execution_count": 5,
   "id": "0ef8879c-763f-4f10-a391-e4a9a6c7496d",
   "metadata": {},
   "outputs": [
    {
     "name": "stdout",
     "output_type": "stream",
     "text": [
      "mv: rename Untitled Folder 1 to Untitled_Folder_1/Untitled Folder 1: No such file or directory\n"
     ]
    }
   ],
   "source": [
    "mv \"Untitled Folder 1\" Untitled_Folder_1\n"
   ]
  },
  {
   "cell_type": "code",
   "execution_count": 6,
   "id": "3633494e-55c6-4fec-b2e9-dfca1f239b21",
   "metadata": {},
   "outputs": [
    {
     "name": "stdout",
     "output_type": "stream",
     "text": [
      "[Errno 2] No such file or directory: '/Users/avenkhemani/ # Or the path where your folder is located'\n",
      "/Users/avenkhemani/Untitled Folder 1\n"
     ]
    },
    {
     "name": "stderr",
     "output_type": "stream",
     "text": [
      "/Library/Frameworks/Python.framework/Versions/3.12/lib/python3.12/site-packages/IPython/core/magics/osm.py:393: UserWarning: This is now an optional IPython functionality, using bookmarks requires you to install the `pickleshare` library.\n",
      "  bkms = self.shell.db.get('bookmarks', {})\n"
     ]
    }
   ],
   "source": [
    "cd ~/  # Or the path where your folder is located\n"
   ]
  },
  {
   "cell_type": "code",
   "execution_count": 7,
   "id": "9a9bafd1-a057-43f4-8e0d-96a0246b9305",
   "metadata": {},
   "outputs": [
    {
     "data": {
      "text/plain": [
       "'/Users/avenkhemani/Untitled Folder 1'"
      ]
     },
     "execution_count": 7,
     "metadata": {},
     "output_type": "execute_result"
    }
   ],
   "source": [
    "pwd\n"
   ]
  },
  {
   "cell_type": "code",
   "execution_count": 8,
   "id": "2404147d-5ec6-46ed-b398-ca428beb02ca",
   "metadata": {},
   "outputs": [
    {
     "name": "stdout",
     "output_type": "stream",
     "text": [
      "Step1_Setup.ipynb\n",
      "Step1_Setup.py\n",
      "Step2_Data_Analysis.ipynb\n",
      "Step2_Data_Analysis.py\n",
      "Step3_Recommendations.ipynb\n",
      "Step3_Recommendations.py\n",
      "Step4_Visualization.ipynb\n",
      "Step4_Visualization.py\n",
      "\u001b[34mUntitled Folder\u001b[m\u001b[m/\n",
      "\u001b[34mUntitled_Folder_1\u001b[m\u001b[m/\n",
      "\u001b[34m__pycache__\u001b[m\u001b[m/\n",
      "current_quiz.json\n",
      "historical_quiz.json\n",
      "\u001b[34minternshipproject\u001b[m\u001b[m/\n",
      "main.ipynb\n",
      "main.py\n",
      "step5_student_persona_and_insights.ipynb\n",
      "step5_student_persona_and_insights.py\n"
     ]
    }
   ],
   "source": [
    "ls\n"
   ]
  },
  {
   "cell_type": "code",
   "execution_count": 9,
   "id": "757eec09-380e-4d4b-876d-9a7a5cfd46ee",
   "metadata": {},
   "outputs": [
    {
     "name": "stdout",
     "output_type": "stream",
     "text": [
      "mv: rename Untitled Folder 1 to Untitled_Folder_1/Untitled Folder 1: No such file or directory\n"
     ]
    }
   ],
   "source": [
    "mv \"Untitled Folder 1\" Untitled_Folder_1\n"
   ]
  },
  {
   "cell_type": "code",
   "execution_count": 10,
   "id": "9c8f2140-fa9d-4a62-aab9-5abad61f22ef",
   "metadata": {},
   "outputs": [
    {
     "data": {
      "text/plain": [
       "'/Users/avenkhemani/Untitled Folder 1'"
      ]
     },
     "execution_count": 10,
     "metadata": {},
     "output_type": "execute_result"
    }
   ],
   "source": [
    "pwd\n"
   ]
  },
  {
   "cell_type": "code",
   "execution_count": 11,
   "id": "d833d2fd-fb26-4650-8644-85c50086c08f",
   "metadata": {},
   "outputs": [
    {
     "name": "stdout",
     "output_type": "stream",
     "text": [
      "Jupyter Notebook is ready!\n",
      "Requirement already satisfied: requests in /Library/Frameworks/Python.framework/Versions/3.12/lib/python3.12/site-packages (2.32.3)\n",
      "Requirement already satisfied: flask in /Library/Frameworks/Python.framework/Versions/3.12/lib/python3.12/site-packages (3.1.0)\n",
      "Requirement already satisfied: charset-normalizer<4,>=2 in /Library/Frameworks/Python.framework/Versions/3.12/lib/python3.12/site-packages (from requests) (3.4.1)\n",
      "Requirement already satisfied: idna<4,>=2.5 in /Library/Frameworks/Python.framework/Versions/3.12/lib/python3.12/site-packages (from requests) (3.10)\n",
      "Requirement already satisfied: urllib3<3,>=1.21.1 in /Library/Frameworks/Python.framework/Versions/3.12/lib/python3.12/site-packages (from requests) (2.3.0)\n",
      "Requirement already satisfied: certifi>=2017.4.17 in /Library/Frameworks/Python.framework/Versions/3.12/lib/python3.12/site-packages (from requests) (2024.12.14)\n",
      "Requirement already satisfied: Werkzeug>=3.1 in /Library/Frameworks/Python.framework/Versions/3.12/lib/python3.12/site-packages (from flask) (3.1.3)\n",
      "Requirement already satisfied: Jinja2>=3.1.2 in /Library/Frameworks/Python.framework/Versions/3.12/lib/python3.12/site-packages (from flask) (3.1.5)\n",
      "Requirement already satisfied: itsdangerous>=2.2 in /Library/Frameworks/Python.framework/Versions/3.12/lib/python3.12/site-packages (from flask) (2.2.0)\n",
      "Requirement already satisfied: click>=8.1.3 in /Library/Frameworks/Python.framework/Versions/3.12/lib/python3.12/site-packages (from flask) (8.1.8)\n",
      "Requirement already satisfied: blinker>=1.9 in /Library/Frameworks/Python.framework/Versions/3.12/lib/python3.12/site-packages (from flask) (1.9.0)\n",
      "Requirement already satisfied: MarkupSafe>=2.0 in /Library/Frameworks/Python.framework/Versions/3.12/lib/python3.12/site-packages (from Jinja2>=3.1.2->flask) (2.1.5)\n",
      "{'user_id': 123, 'quiz_id': 456, 'questions': [{'id': 1, 'topic': 'Physics', 'difficulty': 'Medium', 'correct': False}, {'id': 2, 'topic': 'Chemistry', 'difficulty': 'Hard', 'correct': True}], 'score': 15, 'total_score': 20}\n",
      "{'user_id': 123, 'quiz_id': 456, 'questions': [{'id': 1, 'topic': 'Physics', 'difficulty': 'Medium', 'correct': False}, {'id': 2, 'topic': 'Chemistry', 'difficulty': 'Hard', 'correct': True}], 'score': 15, 'total_score': 20}\n",
      "{'user_id': 123, 'quiz_id': 456, 'questions': [{'id': 1, 'topic': 'Physics', 'difficulty': 'Medium', 'correct': False}, {'id': 2, 'topic': 'Chemistry', 'difficulty': 'Hard', 'correct': True}], 'score': 15, 'total_score': 20}\n",
      "Jupyter Notebook is ready!\n",
      "Requirement already satisfied: requests in /Library/Frameworks/Python.framework/Versions/3.12/lib/python3.12/site-packages (2.32.3)\n",
      "Requirement already satisfied: flask in /Library/Frameworks/Python.framework/Versions/3.12/lib/python3.12/site-packages (3.1.0)\n",
      "Requirement already satisfied: charset-normalizer<4,>=2 in /Library/Frameworks/Python.framework/Versions/3.12/lib/python3.12/site-packages (from requests) (3.4.1)\n",
      "Requirement already satisfied: idna<4,>=2.5 in /Library/Frameworks/Python.framework/Versions/3.12/lib/python3.12/site-packages (from requests) (3.10)\n",
      "Requirement already satisfied: urllib3<3,>=1.21.1 in /Library/Frameworks/Python.framework/Versions/3.12/lib/python3.12/site-packages (from requests) (2.3.0)\n",
      "Requirement already satisfied: certifi>=2017.4.17 in /Library/Frameworks/Python.framework/Versions/3.12/lib/python3.12/site-packages (from requests) (2024.12.14)\n",
      "Requirement already satisfied: Werkzeug>=3.1 in /Library/Frameworks/Python.framework/Versions/3.12/lib/python3.12/site-packages (from flask) (3.1.3)\n",
      "Requirement already satisfied: Jinja2>=3.1.2 in /Library/Frameworks/Python.framework/Versions/3.12/lib/python3.12/site-packages (from flask) (3.1.5)\n",
      "Requirement already satisfied: itsdangerous>=2.2 in /Library/Frameworks/Python.framework/Versions/3.12/lib/python3.12/site-packages (from flask) (2.2.0)\n",
      "Requirement already satisfied: click>=8.1.3 in /Library/Frameworks/Python.framework/Versions/3.12/lib/python3.12/site-packages (from flask) (8.1.8)\n",
      "Requirement already satisfied: blinker>=1.9 in /Library/Frameworks/Python.framework/Versions/3.12/lib/python3.12/site-packages (from flask) (1.9.0)\n",
      "Requirement already satisfied: MarkupSafe>=2.0 in /Library/Frameworks/Python.framework/Versions/3.12/lib/python3.12/site-packages (from Jinja2>=3.1.2->flask) (2.1.5)\n",
      "{'user_id': 123, 'quiz_id': 456, 'questions': [{'id': 1, 'topic': 'Physics', 'difficulty': 'Medium', 'correct': False}, {'id': 2, 'topic': 'Chemistry', 'difficulty': 'Hard', 'correct': True}], 'score': 15, 'total_score': 20}\n",
      "{'user_id': 123, 'quiz_id': 456, 'questions': [{'id': 1, 'topic': 'Physics', 'difficulty': 'Medium', 'correct': False}, {'id': 2, 'topic': 'Chemistry', 'difficulty': 'Hard', 'correct': True}], 'score': 15, 'total_score': 20}\n",
      "{'user_id': 123, 'quiz_id': 456, 'questions': [{'id': 1, 'topic': 'Physics', 'difficulty': 'Medium', 'correct': False}, {'id': 2, 'topic': 'Chemistry', 'difficulty': 'Hard', 'correct': True}], 'score': 15, 'total_score': 20}\n"
     ]
    },
    {
     "data": {
      "text/plain": [
       "<module 'Step1_Setup' from '/Users/avenkhemani/Untitled Folder 1/Step1_Setup.py'>"
      ]
     },
     "execution_count": 11,
     "metadata": {},
     "output_type": "execute_result"
    }
   ],
   "source": [
    "import importlib\n",
    "import Step1_Setup\n",
    "importlib.reload(Step1_Setup)\n"
   ]
  },
  {
   "cell_type": "code",
   "execution_count": 12,
   "id": "6f1ff3de-d496-4d93-b05e-d5ad013daa60",
   "metadata": {},
   "outputs": [
    {
     "ename": "ImportError",
     "evalue": "cannot import name 'load_data' from 'Step1_Setup' (/Users/avenkhemani/Untitled Folder 1/Step1_Setup.py)",
     "output_type": "error",
     "traceback": [
      "\u001b[0;31m---------------------------------------------------------------------------\u001b[0m",
      "\u001b[0;31mImportError\u001b[0m                               Traceback (most recent call last)",
      "Cell \u001b[0;32mIn[12], line 1\u001b[0m\n\u001b[0;32m----> 1\u001b[0m \u001b[38;5;28;01mfrom\u001b[39;00m\u001b[38;5;250m \u001b[39m\u001b[38;5;21;01mStep1_Setup\u001b[39;00m\u001b[38;5;250m \u001b[39m\u001b[38;5;28;01mimport\u001b[39;00m load_data\n",
      "\u001b[0;31mImportError\u001b[0m: cannot import name 'load_data' from 'Step1_Setup' (/Users/avenkhemani/Untitled Folder 1/Step1_Setup.py)"
     ]
    }
   ],
   "source": [
    "from Step1_Setup import load_data\n"
   ]
  },
  {
   "cell_type": "code",
   "execution_count": 13,
   "id": "6c782641-c83b-4080-88a6-61a3baefd948",
   "metadata": {},
   "outputs": [
    {
     "ename": "AttributeError",
     "evalue": "module 'Step1_Setup' has no attribute 'load_data'",
     "output_type": "error",
     "traceback": [
      "\u001b[0;31m---------------------------------------------------------------------------\u001b[0m",
      "\u001b[0;31mAttributeError\u001b[0m                            Traceback (most recent call last)",
      "Cell \u001b[0;32mIn[13], line 2\u001b[0m\n\u001b[1;32m      1\u001b[0m \u001b[38;5;28;01mimport\u001b[39;00m\u001b[38;5;250m \u001b[39m\u001b[38;5;21;01mStep1_Setup\u001b[39;00m\n\u001b[0;32m----> 2\u001b[0m data \u001b[38;5;241m=\u001b[39m \u001b[43mStep1_Setup\u001b[49m\u001b[38;5;241;43m.\u001b[39;49m\u001b[43mload_data\u001b[49m()\n",
      "\u001b[0;31mAttributeError\u001b[0m: module 'Step1_Setup' has no attribute 'load_data'"
     ]
    }
   ],
   "source": [
    "import Step1_Setup\n",
    "data = Step1_Setup.load_data()\n"
   ]
  },
  {
   "cell_type": "code",
   "execution_count": 14,
   "id": "a3c010f0-dfd2-4e28-a67e-b5c39568db23",
   "metadata": {},
   "outputs": [],
   "source": [
    "import json\n",
    "\n",
    "def load_data():\n",
    "    # Load the data from the JSON files\n",
    "    with open('current_quiz.json', 'r') as file:\n",
    "        current_data = json.load(file)\n",
    "\n",
    "    with open('historical_quiz.json', 'r') as file:\n",
    "        historical_data = json.load(file)\n",
    "\n",
    "    return current_data, historical_data\n"
   ]
  },
  {
   "cell_type": "code",
   "execution_count": 15,
   "id": "e97f251e-1504-465c-b4b0-504644a35d26",
   "metadata": {},
   "outputs": [
    {
     "name": "stdout",
     "output_type": "stream",
     "text": [
      "['__builtins__', '__cached__', '__doc__', '__file__', '__loader__', '__name__', '__package__', '__spec__', 'current_data', 'file', 'json']\n"
     ]
    }
   ],
   "source": [
    "import Step1_Setup\n",
    "print(dir(Step1_Setup))  # This will show all available attributes in the module\n"
   ]
  },
  {
   "cell_type": "code",
   "execution_count": 16,
   "id": "c07133cb-6ba9-4543-a210-d1d33339cb1e",
   "metadata": {},
   "outputs": [],
   "source": [
    "import json\n",
    "\n",
    "def load_data():\n",
    "    try:\n",
    "        # Load current data\n",
    "        with open('current_quiz.json', 'r') as file:\n",
    "            current_data = json.load(file)\n",
    "\n",
    "        # Load historical data\n",
    "        with open('historical_quiz.json', 'r') as file:\n",
    "            historical_data = json.load(file)\n",
    "\n",
    "        print(\"Data loaded successfully.\")\n",
    "        return current_data, historical_data\n",
    "    \n",
    "    except Exception as e:\n",
    "        print(f\"Error loading data: {e}\")\n",
    "        return None, None\n"
   ]
  },
  {
   "cell_type": "code",
   "execution_count": 17,
   "id": "0b319d48-c878-4e99-aaf1-5869f4a6042a",
   "metadata": {},
   "outputs": [
    {
     "name": "stdout",
     "output_type": "stream",
     "text": [
      "{'__name__': '__main__', '__doc__': 'Automatically created module for IPython interactive environment', '__package__': None, '__loader__': None, '__spec__': None, '__builtin__': <module 'builtins' (built-in)>, '__builtins__': <module 'builtins' (built-in)>, '_ih': ['', 'def load_data():\\n    print(\"Loading data...\")\\n    # Load your data as before\\n    ...', 'from folder_name.Step1_Setup import load_data', 'from Untitled Folder 1.Step1_Setup import load_data', 'get_ipython().run_line_magic(\\'mv\\', \\'\"Untitled Folder 1\" Untitled_Folder_1\\')', 'get_ipython().run_line_magic(\\'mv\\', \\'\"Untitled Folder 1\" Untitled_Folder_1\\')', \"get_ipython().run_line_magic('cd', '~/  # Or the path where your folder is located')\", \"get_ipython().run_line_magic('pwd', '')\", \"get_ipython().run_line_magic('ls', '')\", 'get_ipython().run_line_magic(\\'mv\\', \\'\"Untitled Folder 1\" Untitled_Folder_1\\')', \"get_ipython().run_line_magic('pwd', '')\", 'import importlib\\nimport Step1_Setup\\nimportlib.reload(Step1_Setup)', 'from Step1_Setup import load_data', 'import Step1_Setup\\ndata = Step1_Setup.load_data()', \"import json\\n\\ndef load_data():\\n    # Load the data from the JSON files\\n    with open('current_quiz.json', 'r') as file:\\n        current_data = json.load(file)\\n\\n    with open('historical_quiz.json', 'r') as file:\\n        historical_data = json.load(file)\\n\\n    return current_data, historical_data\", 'import Step1_Setup\\nprint(dir(Step1_Setup))  # This will show all available attributes in the module', 'import json\\n\\ndef load_data():\\n    try:\\n        # Load current data\\n        with open(\\'current_quiz.json\\', \\'r\\') as file:\\n            current_data = json.load(file)\\n\\n        # Load historical data\\n        with open(\\'historical_quiz.json\\', \\'r\\') as file:\\n            historical_data = json.load(file)\\n\\n        print(\"Data loaded successfully.\")\\n        return current_data, historical_data\\n    \\n    except Exception as e:\\n        print(f\"Error loading data: {e}\")\\n        return None, None', 'import Step1_Setup\\nprint(globals())  # This will show all the global variables and functions available'], '_oh': {7: '/Users/avenkhemani/Untitled Folder 1', 10: '/Users/avenkhemani/Untitled Folder 1', 11: <module 'Step1_Setup' from '/Users/avenkhemani/Untitled Folder 1/Step1_Setup.py'>}, '_dh': [PosixPath('/Users/avenkhemani/Untitled Folder 1')], 'In': ['', 'def load_data():\\n    print(\"Loading data...\")\\n    # Load your data as before\\n    ...', 'from folder_name.Step1_Setup import load_data', 'from Untitled Folder 1.Step1_Setup import load_data', 'get_ipython().run_line_magic(\\'mv\\', \\'\"Untitled Folder 1\" Untitled_Folder_1\\')', 'get_ipython().run_line_magic(\\'mv\\', \\'\"Untitled Folder 1\" Untitled_Folder_1\\')', \"get_ipython().run_line_magic('cd', '~/  # Or the path where your folder is located')\", \"get_ipython().run_line_magic('pwd', '')\", \"get_ipython().run_line_magic('ls', '')\", 'get_ipython().run_line_magic(\\'mv\\', \\'\"Untitled Folder 1\" Untitled_Folder_1\\')', \"get_ipython().run_line_magic('pwd', '')\", 'import importlib\\nimport Step1_Setup\\nimportlib.reload(Step1_Setup)', 'from Step1_Setup import load_data', 'import Step1_Setup\\ndata = Step1_Setup.load_data()', \"import json\\n\\ndef load_data():\\n    # Load the data from the JSON files\\n    with open('current_quiz.json', 'r') as file:\\n        current_data = json.load(file)\\n\\n    with open('historical_quiz.json', 'r') as file:\\n        historical_data = json.load(file)\\n\\n    return current_data, historical_data\", 'import Step1_Setup\\nprint(dir(Step1_Setup))  # This will show all available attributes in the module', 'import json\\n\\ndef load_data():\\n    try:\\n        # Load current data\\n        with open(\\'current_quiz.json\\', \\'r\\') as file:\\n            current_data = json.load(file)\\n\\n        # Load historical data\\n        with open(\\'historical_quiz.json\\', \\'r\\') as file:\\n            historical_data = json.load(file)\\n\\n        print(\"Data loaded successfully.\")\\n        return current_data, historical_data\\n    \\n    except Exception as e:\\n        print(f\"Error loading data: {e}\")\\n        return None, None', 'import Step1_Setup\\nprint(globals())  # This will show all the global variables and functions available'], 'Out': {7: '/Users/avenkhemani/Untitled Folder 1', 10: '/Users/avenkhemani/Untitled Folder 1', 11: <module 'Step1_Setup' from '/Users/avenkhemani/Untitled Folder 1/Step1_Setup.py'>}, 'get_ipython': <bound method InteractiveShell.get_ipython of <ipykernel.zmqshell.ZMQInteractiveShell object at 0x10755f080>>, 'exit': <IPython.core.autocall.ZMQExitAutocall object at 0x10748b8c0>, 'quit': <IPython.core.autocall.ZMQExitAutocall object at 0x10748b8c0>, 'open': <function open at 0x1066ec680>, '_': <module 'Step1_Setup' from '/Users/avenkhemani/Untitled Folder 1/Step1_Setup.py'>, '__': '/Users/avenkhemani/Untitled Folder 1', '___': '/Users/avenkhemani/Untitled Folder 1', '__session__': '/Users/avenkhemani/Untitled Folder 1/Step1_Setup.ipynb', '_i': 'import json\\n\\ndef load_data():\\n    try:\\n        # Load current data\\n        with open(\\'current_quiz.json\\', \\'r\\') as file:\\n            current_data = json.load(file)\\n\\n        # Load historical data\\n        with open(\\'historical_quiz.json\\', \\'r\\') as file:\\n            historical_data = json.load(file)\\n\\n        print(\"Data loaded successfully.\")\\n        return current_data, historical_data\\n    \\n    except Exception as e:\\n        print(f\"Error loading data: {e}\")\\n        return None, None', '_ii': 'import Step1_Setup\\nprint(dir(Step1_Setup))  # This will show all available attributes in the module', '_iii': \"import json\\n\\ndef load_data():\\n    # Load the data from the JSON files\\n    with open('current_quiz.json', 'r') as file:\\n        current_data = json.load(file)\\n\\n    with open('historical_quiz.json', 'r') as file:\\n        historical_data = json.load(file)\\n\\n    return current_data, historical_data\", '_i1': 'def load_data():\\n    print(\"Loading data...\")\\n    # Load your data as before\\n    ...', 'load_data': <function load_data at 0x1080613a0>, '_i2': 'from folder_name.Step1_Setup import load_data', '_i3': 'from Untitled Folder 1.Step1_Setup import load_data', '_i4': 'mv \"Untitled Folder 1\" Untitled_Folder_1', '_exit_code': 0, '_i5': 'mv \"Untitled Folder 1\" Untitled_Folder_1', '_i6': 'cd ~/  # Or the path where your folder is located', '_i7': 'pwd', '_7': '/Users/avenkhemani/Untitled Folder 1', '_i8': 'ls', '_i9': 'mv \"Untitled Folder 1\" Untitled_Folder_1', '_i10': 'pwd', '_10': '/Users/avenkhemani/Untitled Folder 1', '_i11': 'import importlib\\nimport Step1_Setup\\nimportlib.reload(Step1_Setup)', 'importlib': <module 'importlib' from '/Library/Frameworks/Python.framework/Versions/3.12/lib/python3.12/importlib/__init__.py'>, 'Step1_Setup': <module 'Step1_Setup' from '/Users/avenkhemani/Untitled Folder 1/Step1_Setup.py'>, '_11': <module 'Step1_Setup' from '/Users/avenkhemani/Untitled Folder 1/Step1_Setup.py'>, '_i12': 'from Step1_Setup import load_data', '_i13': 'import Step1_Setup\\ndata = Step1_Setup.load_data()', '_i14': \"import json\\n\\ndef load_data():\\n    # Load the data from the JSON files\\n    with open('current_quiz.json', 'r') as file:\\n        current_data = json.load(file)\\n\\n    with open('historical_quiz.json', 'r') as file:\\n        historical_data = json.load(file)\\n\\n    return current_data, historical_data\", 'json': <module 'json' from '/Library/Frameworks/Python.framework/Versions/3.12/lib/python3.12/json/__init__.py'>, '_i15': 'import Step1_Setup\\nprint(dir(Step1_Setup))  # This will show all available attributes in the module', '_i16': 'import json\\n\\ndef load_data():\\n    try:\\n        # Load current data\\n        with open(\\'current_quiz.json\\', \\'r\\') as file:\\n            current_data = json.load(file)\\n\\n        # Load historical data\\n        with open(\\'historical_quiz.json\\', \\'r\\') as file:\\n            historical_data = json.load(file)\\n\\n        print(\"Data loaded successfully.\")\\n        return current_data, historical_data\\n    \\n    except Exception as e:\\n        print(f\"Error loading data: {e}\")\\n        return None, None', '_i17': 'import Step1_Setup\\nprint(globals())  # This will show all the global variables and functions available'}\n"
     ]
    }
   ],
   "source": [
    "import Step1_Setup\n",
    "print(globals())  # This will show all the global variables and functions available\n"
   ]
  },
  {
   "cell_type": "code",
   "execution_count": 18,
   "id": "5eae496d-5946-4240-9703-902d9b943169",
   "metadata": {},
   "outputs": [
    {
     "ename": "ImportError",
     "evalue": "cannot import name 'load_data' from 'Step1_Setup' (/Users/avenkhemani/Untitled Folder 1/Step1_Setup.py)",
     "output_type": "error",
     "traceback": [
      "\u001b[0;31m---------------------------------------------------------------------------\u001b[0m",
      "\u001b[0;31mImportError\u001b[0m                               Traceback (most recent call last)",
      "Cell \u001b[0;32mIn[18], line 3\u001b[0m\n\u001b[1;32m      1\u001b[0m \u001b[38;5;28;01mimport\u001b[39;00m\u001b[38;5;250m \u001b[39m\u001b[38;5;21;01msys\u001b[39;00m\n\u001b[1;32m      2\u001b[0m sys\u001b[38;5;241m.\u001b[39mpath\u001b[38;5;241m.\u001b[39mappend(\u001b[38;5;124m'\u001b[39m\u001b[38;5;124m/Users/avenkhemani/Untitled Folder 1\u001b[39m\u001b[38;5;124m'\u001b[39m)  \u001b[38;5;66;03m# Add the full path to your folder\u001b[39;00m\n\u001b[0;32m----> 3\u001b[0m \u001b[38;5;28;01mfrom\u001b[39;00m\u001b[38;5;250m \u001b[39m\u001b[38;5;21;01mStep1_Setup\u001b[39;00m\u001b[38;5;250m \u001b[39m\u001b[38;5;28;01mimport\u001b[39;00m load_data\n",
      "\u001b[0;31mImportError\u001b[0m: cannot import name 'load_data' from 'Step1_Setup' (/Users/avenkhemani/Untitled Folder 1/Step1_Setup.py)"
     ]
    }
   ],
   "source": [
    "import sys\n",
    "sys.path.append('/Users/avenkhemani/Untitled Folder 1')  # Add the full path to your folder\n",
    "from Step1_Setup import load_data\n"
   ]
  },
  {
   "cell_type": "code",
   "execution_count": null,
   "id": "f504c481-312d-4866-9a3b-249821946a6a",
   "metadata": {},
   "outputs": [],
   "source": []
  }
 ],
 "metadata": {
  "kernelspec": {
   "display_name": "Python 3 (ipykernel)",
   "language": "python",
   "name": "python3"
  },
  "language_info": {
   "codemirror_mode": {
    "name": "ipython",
    "version": 3
   },
   "file_extension": ".py",
   "mimetype": "text/x-python",
   "name": "python",
   "nbconvert_exporter": "python",
   "pygments_lexer": "ipython3",
   "version": "3.12.1"
  }
 },
 "nbformat": 4,
 "nbformat_minor": 5
}
