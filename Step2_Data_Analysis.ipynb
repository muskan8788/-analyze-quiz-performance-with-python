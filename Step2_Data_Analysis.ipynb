{
 "cells": [
  {
   "cell_type": "code",
   "execution_count": 1,
   "id": "12301045-4a01-4df1-af79-ef8de8d637b3",
   "metadata": {},
   "outputs": [
    {
     "ename": "NameError",
     "evalue": "name 'current_data' is not defined",
     "output_type": "error",
     "traceback": [
      "\u001b[0;31m---------------------------------------------------------------------------\u001b[0m",
      "\u001b[0;31mNameError\u001b[0m                                 Traceback (most recent call last)",
      "Cell \u001b[0;32mIn[1], line 4\u001b[0m\n\u001b[1;32m      1\u001b[0m \u001b[38;5;28;01mimport\u001b[39;00m\u001b[38;5;250m \u001b[39m\u001b[38;5;21;01mpandas\u001b[39;00m\u001b[38;5;250m \u001b[39m\u001b[38;5;28;01mas\u001b[39;00m\u001b[38;5;250m \u001b[39m\u001b[38;5;21;01mpd\u001b[39;00m\n\u001b[1;32m      3\u001b[0m \u001b[38;5;66;03m# Convert mock data to DataFrame for analysis\u001b[39;00m\n\u001b[0;32m----> 4\u001b[0m questions \u001b[38;5;241m=\u001b[39m pd\u001b[38;5;241m.\u001b[39mDataFrame(\u001b[43mcurrent_data\u001b[49m[\u001b[38;5;124m'\u001b[39m\u001b[38;5;124mquestions\u001b[39m\u001b[38;5;124m'\u001b[39m])\n\u001b[1;32m      5\u001b[0m \u001b[38;5;28mprint\u001b[39m(questions)\n",
      "\u001b[0;31mNameError\u001b[0m: name 'current_data' is not defined"
     ]
    }
   ],
   "source": [
    "import pandas as pd\n",
    "\n",
    "# Convert mock data to DataFrame for analysis\n",
    "questions = pd.DataFrame(current_data['questions'])\n",
    "print(questions)\n"
   ]
  },
  {
   "cell_type": "code",
   "execution_count": 2,
   "id": "cc75bb45-e3be-49c8-8ff8-38e58b13c970",
   "metadata": {},
   "outputs": [
    {
     "name": "stdout",
     "output_type": "stream",
     "text": [
      "   id      topic difficulty  correct\n",
      "0   1    Physics     Medium    False\n",
      "1   2  Chemistry       Hard     True\n"
     ]
    }
   ],
   "source": [
    "import json\n",
    "import pandas as pd\n",
    "\n",
    "# Load data from the JSON file (if you're using a file)\n",
    "with open('current_quiz.json', 'r') as file:\n",
    "    current_data = json.load(file)\n",
    "\n",
    "# Alternatively, use mock data if you're not using a file\n",
    "# current_data = {\n",
    "#     'user_id': 123,\n",
    "#     'quiz_id': 456,\n",
    "#     'questions': [\n",
    "#         {'id': 1, 'topic': 'Physics', 'difficulty': 'Medium', 'correct': False},\n",
    "#         {'id': 2, 'topic': 'Chemistry', 'difficulty': 'Hard', 'correct': True}\n",
    "#     ],\n",
    "#     'score': 15,\n",
    "#     'total_score': 20\n",
    "# }\n",
    "\n",
    "# Convert the 'questions' part of current_data to a DataFrame\n",
    "questions = pd.DataFrame(current_data['questions'])\n",
    "\n",
    "# Display the DataFrame\n",
    "print(questions)\n"
   ]
  },
  {
   "cell_type": "code",
   "execution_count": 3,
   "id": "97e2e4ee-dc5d-4ac3-b43b-7051f3fdd3ea",
   "metadata": {},
   "outputs": [
    {
     "name": "stdout",
     "output_type": "stream",
     "text": [
      "Topic Performance:\n",
      "           correct  total\n",
      "topic                    \n",
      "Chemistry        1      1\n",
      "Physics          0      1\n"
     ]
    }
   ],
   "source": [
    "# Group by topic and calculate the number of correct answers\n",
    "topic_performance = questions.groupby('topic')['correct'].agg(['sum', 'count'])\n",
    "topic_performance.rename(columns={'sum': 'correct', 'count': 'total'}, inplace=True)\n",
    "\n",
    "# Display the performance by topic\n",
    "print(\"Topic Performance:\")\n",
    "print(topic_performance)\n"
   ]
  },
  {
   "cell_type": "code",
   "execution_count": 4,
   "id": "15c0afaf-b481-40e7-ad39-192390eccfb2",
   "metadata": {},
   "outputs": [
    {
     "name": "stdout",
     "output_type": "stream",
     "text": [
      "\n",
      "Difficulty Performance:\n",
      "            correct  total\n",
      "difficulty                \n",
      "Hard              1      1\n",
      "Medium            0      1\n"
     ]
    }
   ],
   "source": [
    "# Group by difficulty and calculate the number of correct answers\n",
    "difficulty_performance = questions.groupby('difficulty')['correct'].agg(['sum', 'count'])\n",
    "difficulty_performance.rename(columns={'sum': 'correct', 'count': 'total'}, inplace=True)\n",
    "\n",
    "# Display the performance by difficulty\n",
    "print(\"\\nDifficulty Performance:\")\n",
    "print(difficulty_performance)\n"
   ]
  },
  {
   "cell_type": "code",
   "execution_count": 5,
   "id": "486ddf73-ee2a-4a36-a871-e07a6028cd41",
   "metadata": {},
   "outputs": [
    {
     "name": "stdout",
     "output_type": "stream",
     "text": [
      "\n",
      "Overall Performance: 15/20 correct\n"
     ]
    }
   ],
   "source": [
    "# Calculate the overall score\n",
    "overall_score = current_data['score']\n",
    "total_score = current_data['total_score']\n",
    "print(f\"\\nOverall Performance: {overall_score}/{total_score} correct\")\n"
   ]
  },
  {
   "cell_type": "code",
   "execution_count": 6,
   "id": "30291d8e-bc8e-4036-b7e7-2239c4f5cf8e",
   "metadata": {},
   "outputs": [
    {
     "name": "stdout",
     "output_type": "stream",
     "text": [
      "Topic Recommendations\n",
      "- Chemistry: Great progress in Chemistry! Keep practicing.\n",
      "- Physics: Focus more on Physics to improve. Try medium difficulty questions.\n",
      "\n",
      "\n",
      "Difficulty Recommendations\n",
      "- Hard: You're doing well with Hard questions. Keep it up!\n",
      "- Medium: Practice more on Medium questions to improve your score.\n",
      "\n",
      "\n",
      "Overall Recommendation\n"
     ]
    },
    {
     "ename": "AttributeError",
     "evalue": "'str' object has no attribute 'items'",
     "output_type": "error",
     "traceback": [
      "\u001b[0;31m---------------------------------------------------------------------------\u001b[0m",
      "\u001b[0;31mAttributeError\u001b[0m                            Traceback (most recent call last)",
      "Cell \u001b[0;32mIn[6], line 30\u001b[0m\n\u001b[1;32m     28\u001b[0m \u001b[38;5;28;01mfor\u001b[39;00m section, recommendations \u001b[38;5;129;01min\u001b[39;00m all_recommendations\u001b[38;5;241m.\u001b[39mitems():\n\u001b[1;32m     29\u001b[0m     \u001b[38;5;28mprint\u001b[39m(section)\n\u001b[0;32m---> 30\u001b[0m     \u001b[38;5;28;01mfor\u001b[39;00m key, value \u001b[38;5;129;01min\u001b[39;00m \u001b[43mrecommendations\u001b[49m\u001b[38;5;241;43m.\u001b[39;49m\u001b[43mitems\u001b[49m():\n\u001b[1;32m     31\u001b[0m         \u001b[38;5;28mprint\u001b[39m(\u001b[38;5;124mf\u001b[39m\u001b[38;5;124m\"\u001b[39m\u001b[38;5;124m- \u001b[39m\u001b[38;5;132;01m{\u001b[39;00mkey\u001b[38;5;132;01m}\u001b[39;00m\u001b[38;5;124m: \u001b[39m\u001b[38;5;132;01m{\u001b[39;00mvalue\u001b[38;5;132;01m}\u001b[39;00m\u001b[38;5;124m\"\u001b[39m)\n\u001b[1;32m     32\u001b[0m     \u001b[38;5;28mprint\u001b[39m(\u001b[38;5;124m\"\u001b[39m\u001b[38;5;130;01m\\n\u001b[39;00m\u001b[38;5;124m\"\u001b[39m)\n",
      "\u001b[0;31mAttributeError\u001b[0m: 'str' object has no attribute 'items'"
     ]
    }
   ],
   "source": [
    "# Analyze the topic performance\n",
    "topic_recommendations = {}\n",
    "for topic, row in topic_performance.iterrows():\n",
    "    if row['correct'] < row['total'] / 2:  # If less than half correct\n",
    "        topic_recommendations[topic] = f\"Focus more on {topic} to improve. Try medium difficulty questions.\"\n",
    "    else:\n",
    "        topic_recommendations[topic] = f\"Great progress in {topic}! Keep practicing.\"\n",
    "\n",
    "# Analyze the difficulty performance\n",
    "difficulty_recommendations = {}\n",
    "for difficulty, row in difficulty_performance.iterrows():\n",
    "    if row['correct'] < row['total'] / 2:  # If less than half correct\n",
    "        difficulty_recommendations[difficulty] = f\"Practice more on {difficulty} questions to improve your score.\"\n",
    "    else:\n",
    "        difficulty_recommendations[difficulty] = f\"You're doing well with {difficulty} questions. Keep it up!\"\n",
    "\n",
    "# Overall recommendations\n",
    "overall_recommendation = \"Keep practicing, stay consistent, and focus on areas where you need more improvement.\"\n",
    "\n",
    "# Combine recommendations\n",
    "all_recommendations = {\n",
    "    \"Topic Recommendations\": topic_recommendations,\n",
    "    \"Difficulty Recommendations\": difficulty_recommendations,\n",
    "    \"Overall Recommendation\": overall_recommendation\n",
    "}\n",
    "\n",
    "# Print the recommendations\n",
    "for section, recommendations in all_recommendations.items():\n",
    "    print(section)\n",
    "    for key, value in recommendations.items():\n",
    "        print(f\"- {key}: {value}\")\n",
    "    print(\"\\n\")\n"
   ]
  },
  {
   "cell_type": "code",
   "execution_count": 7,
   "id": "c68888b8-95a4-4749-8824-f24406e114dc",
   "metadata": {},
   "outputs": [
    {
     "data": {
      "image/png": "[encoded data removed]",
      "text/plain": [
       "<Figure size 640x480 with 1 Axes>"
      ]
     },
     "metadata": {},
     "output_type": "display_data"
    },
    {
     "data": {
      "image/png": "[encoded data removed]",
      "text/plain": [
       "<Figure size 640x480 with 1 Axes>"
      ]
     },
     "metadata": {},
     "output_type": "display_data"
    }
   ],
   "source": [
    "import matplotlib.pyplot as plt\n",
    "\n",
    "# Bar chart for topic performance\n",
    "topic_performance['correct'].plot(kind='bar', title='Topic Performance')\n",
    "plt.ylabel('Number of Correct Answers')\n",
    "plt.show()\n",
    "\n",
    "# Bar chart for difficulty performance\n",
    "difficulty_performance['correct'].plot(kind='bar', title='Difficulty Performance')\n",
    "plt.ylabel('Number of Correct Answers')\n",
    "plt.show()\n"
   ]
  },
  {
   "cell_type": "code",
   "execution_count": 8,
   "id": "0c242de4-13a1-442c-8ee8-559c3fb887a0",
   "metadata": {},
   "outputs": [],
   "source": [
    "import json\n",
    "import pandas as pd\n",
    "\n",
    "# Load data from JSON file\n",
    "with open('current_quiz.json', 'r') as file:\n",
    "    current_data = json.load(file)\n",
    "\n",
    "# Convert to DataFrame\n",
    "questions = pd.DataFrame(current_data['questions'])\n"
   ]
  },
  {
   "cell_type": "code",
   "execution_count": 9,
   "id": "22d101fa-1bfc-4308-ae52-b71446e648f1",
   "metadata": {},
   "outputs": [
    {
     "name": "stdout",
     "output_type": "stream",
     "text": [
      "Topic Recommendations\n",
      "- Chemistry: Great progress in Chemistry! Keep practicing.\n",
      "- Physics: Focus more on Physics to improve. Try medium difficulty questions.\n",
      "\n",
      "\n",
      "Difficulty Recommendations\n",
      "- Hard: You're doing well with Hard questions. Keep it up!\n",
      "- Medium: Practice more on Medium questions to improve your score.\n",
      "\n",
      "\n",
      "Overall Recommendation\n"
     ]
    },
    {
     "ename": "AttributeError",
     "evalue": "'str' object has no attribute 'items'",
     "output_type": "error",
     "traceback": [
      "\u001b[0;31m---------------------------------------------------------------------------\u001b[0m",
      "\u001b[0;31mAttributeError\u001b[0m                            Traceback (most recent call last)",
      "Cell \u001b[0;32mIn[9], line 30\u001b[0m\n\u001b[1;32m     28\u001b[0m \u001b[38;5;28;01mfor\u001b[39;00m section, recommendations \u001b[38;5;129;01min\u001b[39;00m all_recommendations\u001b[38;5;241m.\u001b[39mitems():\n\u001b[1;32m     29\u001b[0m     \u001b[38;5;28mprint\u001b[39m(section)\n\u001b[0;32m---> 30\u001b[0m     \u001b[38;5;28;01mfor\u001b[39;00m key, value \u001b[38;5;129;01min\u001b[39;00m \u001b[43mrecommendations\u001b[49m\u001b[38;5;241;43m.\u001b[39;49m\u001b[43mitems\u001b[49m():\n\u001b[1;32m     31\u001b[0m         \u001b[38;5;28mprint\u001b[39m(\u001b[38;5;124mf\u001b[39m\u001b[38;5;124m\"\u001b[39m\u001b[38;5;124m- \u001b[39m\u001b[38;5;132;01m{\u001b[39;00mkey\u001b[38;5;132;01m}\u001b[39;00m\u001b[38;5;124m: \u001b[39m\u001b[38;5;132;01m{\u001b[39;00mvalue\u001b[38;5;132;01m}\u001b[39;00m\u001b[38;5;124m\"\u001b[39m)\n\u001b[1;32m     32\u001b[0m     \u001b[38;5;28mprint\u001b[39m(\u001b[38;5;124m\"\u001b[39m\u001b[38;5;130;01m\\n\u001b[39;00m\u001b[38;5;124m\"\u001b[39m)\n",
      "\u001b[0;31mAttributeError\u001b[0m: 'str' object has no attribute 'items'"
     ]
    }
   ],
   "source": [
    "# Analyze the topic performance\n",
    "topic_recommendations = {}\n",
    "for topic, row in topic_performance.iterrows():\n",
    "    if row['correct'] < row['total'] / 2:  # If less than half correct\n",
    "        topic_recommendations[topic] = f\"Focus more on {topic} to improve. Try medium difficulty questions.\"\n",
    "    else:\n",
    "        topic_recommendations[topic] = f\"Great progress in {topic}! Keep practicing.\"\n",
    "\n",
    "# Analyze the difficulty performance\n",
    "difficulty_recommendations = {}\n",
    "for difficulty, row in difficulty_performance.iterrows():\n",
    "    if row['correct'] < row['total'] / 2:  # If less than half correct\n",
    "        difficulty_recommendations[difficulty] = f\"Practice more on {difficulty} questions to improve your score.\"\n",
    "    else:\n",
    "        difficulty_recommendations[difficulty] = f\"You're doing well with {difficulty} questions. Keep it up!\"\n",
    "\n",
    "# Overall recommendations\n",
    "overall_recommendation = \"Keep practicing, stay consistent, and focus on areas where you need more improvement.\"\n",
    "\n",
    "# Combine recommendations\n",
    "all_recommendations = {\n",
    "    \"Topic Recommendations\": topic_recommendations,\n",
    "    \"Difficulty Recommendations\": difficulty_recommendations,\n",
    "    \"Overall Recommendation\": overall_recommendation\n",
    "}\n",
    "\n",
    "# Print the recommendations\n",
    "for section, recommendations in all_recommendations.items():\n",
    "    print(section)\n",
    "    for key, value in recommendations.items():\n",
    "        print(f\"- {key}: {value}\")\n",
    "    print(\"\\n\")"
   ]
  },
  {
   "cell_type": "code",
   "execution_count": 10,
   "id": "1c48fe77-86da-4845-8d4d-0d924af91810",
   "metadata": {},
   "outputs": [
    {
     "name": "stdout",
     "output_type": "stream",
     "text": [
      "Topic Recommendations\n",
      "- Chemistry: Great progress in Chemistry! Keep practicing.\n",
      "- Physics: Focus more on Physics to improve. Try medium difficulty questions.\n",
      "\n",
      "\n",
      "Difficulty Recommendations\n",
      "- Hard: You're doing well with Hard questions. Keep it up!\n",
      "- Medium: Practice more on Medium questions to improve your score.\n",
      "\n",
      "\n",
      "Overall Recommendation\n",
      "- Keep practicing, stay consistent, and focus on areas where you need more improvement.\n",
      "\n",
      "\n"
     ]
    }
   ],
   "source": [
    "# Analyze the topic performance\n",
    "topic_recommendations = {}\n",
    "for topic, row in topic_performance.iterrows():\n",
    "    if row['correct'] < row['total'] / 2:  # If less than half correct\n",
    "        topic_recommendations[topic] = f\"Focus more on {topic} to improve. Try medium difficulty questions.\"\n",
    "    else:\n",
    "        topic_recommendations[topic] = f\"Great progress in {topic}! Keep practicing.\"\n",
    "\n",
    "# Analyze the difficulty performance\n",
    "difficulty_recommendations = {}\n",
    "for difficulty, row in difficulty_performance.iterrows():\n",
    "    if row['correct'] < row['total'] / 2:  # If less than half correct\n",
    "        difficulty_recommendations[difficulty] = f\"Practice more on {difficulty} questions to improve your score.\"\n",
    "    else:\n",
    "        difficulty_recommendations[difficulty] = f\"You're doing well with {difficulty} questions. Keep it up!\"\n",
    "\n",
    "# Overall recommendations\n",
    "overall_recommendation = \"Keep practicing, stay consistent, and focus on areas where you need more improvement.\"\n",
    "\n",
    "# Combine recommendations\n",
    "all_recommendations = {\n",
    "    \"Topic Recommendations\": topic_recommendations,\n",
    "    \"Difficulty Recommendations\": difficulty_recommendations,\n",
    "    \"Overall Recommendation\": overall_recommendation\n",
    "}\n",
    "\n",
    "# Print the recommendations\n",
    "for section, recommendations in all_recommendations.items():\n",
    "    print(section)\n",
    "    if isinstance(recommendations, dict):  # Check if it's a dictionary (for Topic and Difficulty)\n",
    "        for key, value in recommendations.items():\n",
    "            print(f\"- {key}: {value}\")\n",
    "    else:  # If it's a string (Overall Recommendation)\n",
    "        print(f\"- {recommendations}\")\n",
    "    print(\"\\n\")\n"
   ]
  },
  {
   "cell_type": "code",
   "execution_count": null,
   "id": "d02dfc12-abd7-4003-b255-ad6251d7be9f",
   "metadata": {},
   "outputs": [],
   "source": []
  }
 ],
 "metadata": {
  "kernelspec": {
   "display_name": "Python 3 (ipykernel)",
   "language": "python",
   "name": "python3"
  },
  "language_info": {
   "codemirror_mode": {
    "name": "ipython",
    "version": 3
   },
   "file_extension": ".py",
   "mimetype": "text/x-python",
   "name": "python",
   "nbconvert_exporter": "python",
   "pygments_lexer": "ipython3",
   "version": "3.12.1"
  }
 },
 "nbformat": 4,
 "nbformat_minor": 5
}
