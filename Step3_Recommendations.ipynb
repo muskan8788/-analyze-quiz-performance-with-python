{
 "cells": [
  {
   "cell_type": "code",
   "execution_count": 1,
   "id": "dcd3f826-efe8-43ab-9a3c-d09f7ee89efc",
   "metadata": {},
   "outputs": [
    {
     "ename": "NameError",
     "evalue": "name 'questions' is not defined",
     "output_type": "error",
     "traceback": [
      "\u001b[0;31m---------------------------------------------------------------------------\u001b[0m",
      "\u001b[0;31mNameError\u001b[0m                                 Traceback (most recent call last)",
      "Cell \u001b[0;32mIn[1], line 2\u001b[0m\n\u001b[1;32m      1\u001b[0m \u001b[38;5;66;03m# Analyze and recommend\u001b[39;00m\n\u001b[0;32m----> 2\u001b[0m accuracy_by_topic \u001b[38;5;241m=\u001b[39m \u001b[43mquestions\u001b[49m\u001b[38;5;241m.\u001b[39mgroupby(\u001b[38;5;124m'\u001b[39m\u001b[38;5;124mtopic\u001b[39m\u001b[38;5;124m'\u001b[39m)[\u001b[38;5;124m'\u001b[39m\u001b[38;5;124mcorrect\u001b[39m\u001b[38;5;124m'\u001b[39m]\u001b[38;5;241m.\u001b[39mmean()\n\u001b[1;32m      3\u001b[0m \u001b[38;5;28;01mfor\u001b[39;00m topic, accuracy \u001b[38;5;129;01min\u001b[39;00m accuracy_by_topic\u001b[38;5;241m.\u001b[39mitems():\n\u001b[1;32m      4\u001b[0m     \u001b[38;5;28;01mif\u001b[39;00m accuracy \u001b[38;5;241m<\u001b[39m \u001b[38;5;241m0.5\u001b[39m:\n",
      "\u001b[0;31mNameError\u001b[0m: name 'questions' is not defined"
     ]
    }
   ],
   "source": [
    "# Analyze and recommend\n",
    "accuracy_by_topic = questions.groupby('topic')['correct'].mean()\n",
    "for topic, accuracy in accuracy_by_topic.items():\n",
    "    if accuracy < 0.5:\n",
    "        print(f\"Focus on {topic}, accuracy: {accuracy:.2%}\")\n"
   ]
  },
  {
   "cell_type": "code",
   "execution_count": 2,
   "id": "7b89048c-ee6e-4af9-935f-f87b4ce06351",
   "metadata": {},
   "outputs": [
    {
     "name": "stdout",
     "output_type": "stream",
     "text": [
      "Topic: Chemistry - Great progress in Chemistry! Keep practicing.\n",
      "Topic: Physics - Focus more on Physics to improve. Try medium difficulty questions.\n"
     ]
    }
   ],
   "source": [
    "import json\n",
    "import pandas as pd\n",
    "\n",
    "# Load data from JSON file\n",
    "with open('current_quiz.json', 'r') as file:\n",
    "    current_data = json.load(file)\n",
    "\n",
    "# Convert to DataFrame\n",
    "questions = pd.DataFrame(current_data['questions'])\n",
    "\n",
    "# Step 3: Analyze and Recommend\n",
    "accuracy_by_topic = questions.groupby('topic')['correct'].mean()\n",
    "\n",
    "# Create recommendations based on performance\n",
    "recommendations = {}\n",
    "for topic, accuracy in accuracy_by_topic.items():\n",
    "    if accuracy < 0.5:\n",
    "        recommendations[topic] = f\"Focus more on {topic} to improve. Try medium difficulty questions.\"\n",
    "    else:\n",
    "        recommendations[topic] = f\"Great progress in {topic}! Keep practicing.\"\n",
    "\n",
    "# Display recommendations\n",
    "for topic, recommendation in recommendations.items():\n",
    "    print(f\"Topic: {topic} - {recommendation}\")\n"
   ]
  },
  {
   "cell_type": "code",
   "execution_count": null,
   "id": "39c758d8-0453-4c94-abd5-c0c1c27f3006",
   "metadata": {},
   "outputs": [],
   "source": []
  }
 ],
 "metadata": {
  "kernelspec": {
   "display_name": "Python 3 (ipykernel)",
   "language": "python",
   "name": "python3"
  },
  "language_info": {
   "codemirror_mode": {
    "name": "ipython",
    "version": 3
   },
   "file_extension": ".py",
   "mimetype": "text/x-python",
   "name": "python",
   "nbconvert_exporter": "python",
   "pygments_lexer": "ipython3",
   "version": "3.12.1"
  }
 },
 "nbformat": 4,
 "nbformat_minor": 5
}
